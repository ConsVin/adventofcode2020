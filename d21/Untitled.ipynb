{
 "cells": [
  {
   "cell_type": "code",
   "execution_count": 110,
   "metadata": {},
   "outputs": [
    {
     "name": "stdout",
     "output_type": "stream",
     "text": [
      "Start Loop\n",
      "Solved for fish, it is in clvr\n",
      "Solved for sesame, it is in hdsm\n",
      "Solved for nuts, it is in fttbhdr\n",
      "Solved for eggs, it is in nbgklf\n",
      "Solved for soy, it is in sjhds\n",
      "Solved for peanuts, it is in qjxxpr\n",
      "Solved for wheat, it is in xchzh\n",
      "Solved for dairy, it is in nfnfk\n",
      "Quizz Solved!\n",
      "End Of The Loop\n",
      "Part 1 ans : 2170\n",
      "Ans 2: nfnfk,nbgklf,clvr,fttbhdr,qjxxpr,hdsm,sjhds,xchzh\n"
     ]
    }
   ],
   "source": [
    "import numpy as np\n",
    "import copy\n",
    "\n",
    "fname = \"input.txt\"\n",
    "data=[]\n",
    "for line in open(fname, \"r\").readlines():\n",
    "    x = line.split(\"(\")\n",
    "    ingr = x[0][:-1].split(\" \")\n",
    "    allerg=x[1][:-2].replace(\",\",\"\").split(\" \")[1:]\n",
    "    data.append([ingr,allerg])\n",
    "\n",
    "    \n",
    "    \n",
    "unique_ingrid =[]\n",
    "for d in data:\n",
    "    unique_ingrid+=d[0]\n",
    "unique_ingrid = set(unique_ingrid)\n",
    "\n",
    "unique_allerg =[]\n",
    "for d in data:\n",
    "    unique_allerg+=d[1]\n",
    "unique_allerg = set(unique_allerg)\n",
    "def intersect(ll):\n",
    "    ls=[set(l) for l in ll]\n",
    "    fst=ls[0]\n",
    "    for l in ls[1:]:\n",
    "        fst.intersection_update(l)\n",
    "    return fst\n",
    "\n",
    "data_ref = copy.deepcopy(data)\n",
    "\n",
    "\n",
    "print(\"Start Loop\")\n",
    "solution={}   \n",
    "for loop in range(100):\n",
    "    if (len(unique_allerg))==0:\n",
    "        print(\"Quizz Solved!\")\n",
    "        break;\n",
    "    for a in unique_allerg:\n",
    "        solved = False;\n",
    "        who_contains =[]\n",
    "        for d in data:\n",
    "            if a in d[1]:\n",
    "                who_contains.append(d[0])\n",
    "        if len(who_contains)>1:\n",
    "            chosen = list(intersect(who_contains));\n",
    "            if len(chosen)==1:\n",
    "                solved_allerg = a;\n",
    "                solved_ingred = chosen[0];\n",
    "                solved = True;\n",
    "                \n",
    "        # Holly fuck it's so shitty :(\n",
    "        if (len(who_contains)==1) and (len(who_contains[0])==1):\n",
    "            solved_allerg = a;\n",
    "            solved_ingred = who_contains[0][0];\n",
    "            solved = True;\n",
    "        if (solved):\n",
    "            solution[solved_ingred]=solved_allerg;\n",
    "            print(f\"Solved for {solved_allerg}, it is in {solved_ingred}\")\n",
    "            unique_allerg.remove(solved_allerg)\n",
    "            for d in data:\n",
    "                if solved_allerg in d[1]:\n",
    "                    d[1].remove(a)\n",
    "                if solved_ingred in d[0]:\n",
    "                    d[0].remove(solved_ingred)\n",
    "            break;\n",
    "                \n",
    "print(\"End Of The Loop\")\n",
    "\n",
    "non_allergen = set(unique_ingrid).difference(set(solution.keys()))\n",
    "cnt = 0;\n",
    "for na in non_allergen:\n",
    "    for d in data_ref:\n",
    "        if na in d[0]:\n",
    "            cnt+=1\n",
    "print(f\"Part 1 ans : {cnt}\") \n",
    "\n",
    "x = solution\n",
    "ans2= \",\".join(list({k: v for k, v in sorted(x.items(), key=lambda item: item[1])}.keys()))\n",
    "print(f\"Ans 2: {ans2}\")\n",
    "\n",
    "\n",
    "\n",
    "    \n"
   ]
  },
  {
   "cell_type": "code",
   "execution_count": 56,
   "metadata": {},
   "outputs": [
    {
     "name": "stdout",
     "output_type": "stream",
     "text": [
      "-----------------\n",
      "[[['mxmxvkd', 'kfcds', 'sqjhc', 'nhms'], ['dairy', 'fish']], [['trh', 'fvjkl', 'sbzzf', 'mxmxvkd'], ['dairy']], [['sqjhc', 'fvjkl'], ['soy']], [['sqjhc', 'mxmxvkd', 'sbzzf'], ['fish']]]\n",
      "-----------------\n",
      "[[['mxmxvkd', 'kfcds', 'sqjhc', 'nhms'], ['fish']], [['trh', 'fvjkl', 'sbzzf', 'mxmxvkd'], []], [['sqjhc', 'fvjkl'], ['soy']], [['sqjhc', 'mxmxvkd', 'sbzzf'], ['fish']]]\n"
     ]
    }
   ],
   "source": []
  }
 ],
 "metadata": {
  "kernelspec": {
   "display_name": "Python 3",
   "language": "python",
   "name": "python3"
  },
  "language_info": {
   "codemirror_mode": {
    "name": "ipython",
    "version": 3
   },
   "file_extension": ".py",
   "mimetype": "text/x-python",
   "name": "python",
   "nbconvert_exporter": "python",
   "pygments_lexer": "ipython3",
   "version": "3.8.3"
  }
 },
 "nbformat": 4,
 "nbformat_minor": 4
}
