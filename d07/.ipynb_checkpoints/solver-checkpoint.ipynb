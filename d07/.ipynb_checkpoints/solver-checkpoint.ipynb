{
 "cells": [
  {
   "cell_type": "code",
   "execution_count": 11,
   "metadata": {},
   "outputs": [
    {
     "name": "stdout",
     "output_type": "stream",
     "text": [
      "shiny gold bags contain 2 dark red bags.\n",
      "dark red bags contain 2 dark orange bags.\n",
      "dark orange bags contain 2 dark yellow bags.\n",
      "dark yellow bags contain 2 dark green bags.\n",
      "dark green bags contain 2 dark blue bags.\n",
      "dark blue bags contain 2 dark violet bags.\n",
      "dark violet bags contain no other bags.\n",
      "['dark_red', 2]\n",
      "['dark_orange', 2]\n",
      "['dark_yellow', 2]\n",
      "['dark_green', 2]\n",
      "['dark_blue', 2]\n",
      "['dark_violet', 2]\n",
      "[[0. 0. 0. 0. 0. 0. 2.]\n",
      " [0. 0. 0. 0. 2. 0. 0.]\n",
      " [2. 0. 0. 0. 0. 0. 0.]\n",
      " [0. 0. 0. 0. 0. 2. 0.]\n",
      " [0. 0. 0. 2. 0. 0. 0.]\n",
      " [0. 0. 0. 0. 0. 0. 0.]\n",
      " [0. 2. 0. 0. 0. 0. 0.]]\n",
      "dark_red\n",
      "dark_yellow\n",
      "shiny_gold\n",
      "dark_blue\n",
      "dark_green\n",
      "dark_violet\n",
      "dark_orange\n"
     ]
    }
   ],
   "source": [
    "import numpy as np\n",
    "filename = 'input.txt'\n",
    "with open(filename) as f:\n",
    "    lines = f.readlines()\n",
    "def to_2d(l, n=4):\n",
    "    return [l[i:i+n] for i in range(0, len(l), n)]\n",
    "\n",
    "rules=[]  \n",
    "all_possible_bags=[]\n",
    "for line in lines:\n",
    "    print(line.strip())\n",
    "    x = line.strip().split()\n",
    "    parent=x[0]+\"_\"+x[1]\n",
    "    all_possible_bags.append(parent)\n",
    "    bag_content = x[4:]\n",
    "    content=[]\n",
    "        \n",
    "    if (len(bag_content)==3):\n",
    "        pass;\n",
    "    else:\n",
    "        for child in to_2d(bag_content):\n",
    "            amount = int(child[0])\n",
    "            chld_name = child[1]+\"_\"+child[2]\n",
    "            content.append([chld_name,amount])\n",
    "            all_possible_bags.append(chld_name)\n",
    "    rules.append([parent,content])\n",
    "# [print(r) for r in rules];\n",
    "            \n",
    "idx = list(set(all_possible_bags))\n",
    "n_bags = len(idx)\n",
    "table=np.zeros([n_bags,n_bags])\n",
    "for r in rules:\n",
    "    par = idx.index(r[0])\n",
    "    for c in r[1]:\n",
    "        print(c)\n",
    "        ch=idx.index(c[0])\n",
    "        amount=c[1]\n",
    "        table[par,ch]=amount\n",
    "    \n",
    "print(table)\n",
    "print(\"\\n\".join(idx))\n"
   ]
  },
  {
   "cell_type": "code",
   "execution_count": 12,
   "metadata": {},
   "outputs": [
    {
     "name": "stdout",
     "output_type": "stream",
     "text": [
      "Track shiny_gold\n",
      "Visited: []\n",
      "Target Bag {target} can be:\n"
     ]
    }
   ],
   "source": [
    "target = 'shiny_gold'\n",
    "idx.index(target)\n",
    "parents = np.nonzero(table[:,idx.index(target)])[0]\n",
    "parents_names = [idx[p] for p in parents]\n",
    "parents_names\n",
    "amount=0\n",
    "def track(p):\n",
    "    parents = np.nonzero(table[:,p])[0]\n",
    "    print(f\"Track {idx[p]}\")\n",
    "    visited=[]\n",
    "    for p in parents:\n",
    "        print(f\"It has parent {idx[p]}\")\n",
    "        visited += [p]\n",
    "        visited += track(p)\n",
    "    print(f\"Visited: {visited}\")        \n",
    "    return visited\n",
    "\n",
    "v = track(idx.index(target))\n",
    "\n",
    "print('Target Bag {target} can be:')\n",
    "for u in list(set(v)):\n",
    "    print(f\"\\t {idx[u]}\")"
   ]
  },
  {
   "cell_type": "code",
   "execution_count": 20,
   "metadata": {},
   "outputs": [
    {
     "name": "stdout",
     "output_type": "stream",
     "text": [
      "Track shiny_gold\n",
      "It has child dark_red in amount 2.0, v=1\n",
      "Track dark_red\n",
      "It has child dark_orange in amount 2.0, v=1\n",
      "Track dark_orange\n",
      "It has child dark_yellow in amount 2.0, v=1\n",
      "Track dark_yellow\n",
      "It has child dark_green in amount 2.0, v=1\n",
      "Track dark_green\n",
      "It has child dark_blue in amount 2.0, v=1\n",
      "Track dark_blue\n",
      "It has child dark_violet in amount 2.0, v=1\n",
      "Track dark_violet\n",
      "Visited: 1\n",
      "Updated 3.0\n",
      "Visited: 3.0\n",
      "Updated 7.0\n",
      "Visited: 7.0\n",
      "Updated 15.0\n",
      "Visited: 15.0\n",
      "Updated 31.0\n",
      "Visited: 31.0\n",
      "Updated 63.0\n",
      "Visited: 63.0\n",
      "Updated 127.0\n",
      "Visited: 127.0\n",
      "Result 126.0\n"
     ]
    }
   ],
   "source": [
    "target = 'shiny_gold'\n",
    "idx.index(target)\n",
    "parents = np.nonzero(table[:,idx.index(target)])[0]\n",
    "parents_names = [idx[p] for p in parents]\n",
    "parents_names\n",
    "amount=0\n",
    "def track_amount(p):\n",
    "    children = np.nonzero(table[p,:])[0]\n",
    "    print(f\"Track {idx[p]}\")\n",
    "    visited=1\n",
    "    for c in children:\n",
    "        a = table[p,c];\n",
    "        print(f\"It has child {idx[c]} in amount {a}, v={visited}\")\n",
    "        visited += track_amount(c)*a\n",
    "        print(f\"Updated {visited}\")\n",
    "        \n",
    "    print(f\"Visited: {visited}\")        \n",
    "    return visited\n",
    "\n",
    "v = track_amount(idx.index(target))-1\n",
    "print(f\"Result {v}\")\n"
   ]
  }
 ],
 "metadata": {
  "kernelspec": {
   "display_name": "Python 3",
   "language": "python",
   "name": "python3"
  },
  "language_info": {
   "codemirror_mode": {
    "name": "ipython",
    "version": 3
   },
   "file_extension": ".py",
   "mimetype": "text/x-python",
   "name": "python",
   "nbconvert_exporter": "python",
   "pygments_lexer": "ipython3",
   "version": "3.8.3"
  }
 },
 "nbformat": 4,
 "nbformat_minor": 4
}
