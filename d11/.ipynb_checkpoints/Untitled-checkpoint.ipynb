{
 "cells": [
  {
   "cell_type": "code",
   "execution_count": 2,
   "metadata": {},
   "outputs": [
    {
     "name": "stdout",
     "output_type": "stream",
     "text": [
      "[[ 0 -1  0  0 -1  0  0 -1  0  0]\n",
      " [ 0  0  0  0  0  0  0 -1  0  0]\n",
      " [ 0 -1  0 -1  0 -1 -1  0 -1 -1]\n",
      " [ 0  0  0  0 -1  0  0 -1  0  0]\n",
      " [ 0 -1  0  0 -1  0  0 -1  0  0]\n",
      " [ 0 -1  0  0  0  0  0 -1  0  0]\n",
      " [-1 -1  0 -1  0 -1 -1 -1 -1 -1]\n",
      " [ 0  0  0  0  0  0  0  0  0  0]\n",
      " [ 0 -1  0  0  0  0  0  0 -1  0]\n",
      " [ 0 -1  0  0  0  0  0 -1  0  0]]\n",
      "Stable!!!\n",
      "Rounds : 3\n"
     ]
    },
    {
     "data": {
      "text/plain": [
       "37"
      ]
     },
     "execution_count": 2,
     "metadata": {},
     "output_type": "execute_result"
    }
   ],
   "source": [
    "import re\n",
    "import numpy as np\n",
    "file1 = open('sample.txt', 'r') \n",
    "Lines = file1.readlines() \n",
    "  \n",
    "# Strips the newline character \n",
    "mat=[]\n",
    "for line in Lines: \n",
    "    s = line.replace(\".\", \"-1 \").replace(\"L\",\"0 \")\n",
    "    x = np.fromstring(s, dtype=int, sep=' ')\n",
    "    mat.append(x)\n",
    "seats=np.array(mat)\n",
    "\n",
    "\n",
    "def get_around(mat, point):\n",
    "    adjacency = [(i+point[0],j+point[1]) for i in (-1,0,1) for j in (-1,0,1) if not (i == j == 0)] #the adjacency matrix\n",
    "    t=[]\n",
    "    for c in adjacency:\n",
    "        if (c[0] < mat.shape[0])and( c[1] < mat.shape[1]) and(c[0] > -1)and( c[1] > -1):\n",
    "            t.append(mat[c[0]][c[1]])\n",
    "    return np.array(t)\n",
    "# mat= np.array([[1,2,3,4],[5,6,7,8],[9,10,11,12]])\n",
    "# a = get_around(mat,(1,1));\n",
    "\n",
    "seats_a = np.copy(seats);\n",
    "seats_b = np.copy(seats);\n",
    "print(seats)\n",
    "for l in range(1,100):\n",
    "    seats_b = np.copy(seats_a)\n",
    "    for i in range(seats.shape[0]):\n",
    "        for j in range(seats.shape[1]):\n",
    "            if (seats_a[i,j]==0):\n",
    "                around = get_around(seats_a,(i,j));\n",
    "                occupied= (around ==1).sum()\n",
    "                if occupied == 0 :\n",
    "                    seats_b[i,j] = 1;\n",
    "    seats_a = np.copy(seats_b)\n",
    "    for i in range(seats.shape[0]):\n",
    "        for j in range(seats.shape[1]):\n",
    "            if (seats_b[i,j]>0):\n",
    "                around = get_around(seats_b,(i,j));\n",
    "                occupied= (around ==1).sum()\n",
    "                if occupied >= 4 :\n",
    "                    seats_a[i,j] = 0;\n",
    "    if (seats_b==seats_a).all():\n",
    "        print(\"Stable!!!\");\n",
    "        break\n",
    "print(f\"Rounds : {l}\")        \n",
    "(seats_b==1).sum()\n",
    "\n"
   ]
  },
  {
   "cell_type": "code",
   "execution_count": null,
   "metadata": {},
   "outputs": [],
   "source": []
  },
  {
   "cell_type": "code",
   "execution_count": 72,
   "metadata": {},
   "outputs": [
    {
     "name": "stdout",
     "output_type": "stream",
     "text": [
      "[[0. 0. 0. 0. 1. 0. 0.]\n",
      " [0. 0. 0. 0. 0. 0. 0.]\n",
      " [0. 0. 0. 0. 0. 0. 0.]\n",
      " [0. 0. 0. 0. 7. 0. 0.]\n",
      " [0. 0. 0. 0. 0. 0. 0.]\n",
      " [0. 0. 0. 0. 0. 0. 1.]\n",
      " [0. 0. 0. 0. 0. 0. 0.]]\n"
     ]
    }
   ],
   "source": [
    "a = np.zeros([7,7])\n",
    "p = (3,4)\n",
    "a[5,6] =1\n",
    "a[0,4] =1\n",
    "\n",
    "a[p]=7\n",
    "\n",
    "def f0(p,i):\n",
    "    return (p[0] +i, p[1]+i)\n",
    "def f1(p,i):\n",
    "    return (p[0]   , p[1]+i)\n",
    "def f2(p,i):\n",
    "    return (p[0] -i, p[1]+i)\n",
    "\n",
    "def f3(p,i):\n",
    "    return (p[0] +i, p[1] )\n",
    "def f4(p,i):\n",
    "    return (p[0] -i, p[1] )\n",
    "\n",
    "def f5(p,i):\n",
    "    return (p[0] +i, p[1] - i)\n",
    "def f6(p,i):\n",
    "    return (p[0]   , p[1] - i)\n",
    "def f7(p,i):\n",
    "    return (p[0] -i, p[1] - i)\n",
    "\n",
    "\n",
    "directions=[f0,f1,f2,f3,f4,f5,f6,f7]\n",
    "L = max(a.shape)\n",
    "def valid_range(c):\n",
    "    return (max(c) < L) and(min(c)>=0)\n",
    "def search(fx,a,p):\n",
    "    for i in range(1,L):\n",
    "        c = fx(p,i)\n",
    "        if valid_range(c):\n",
    "            x=a[c]\n",
    "            if (x==1):\n",
    "                return 1\n",
    "        else:\n",
    "            break;\n",
    "    return 0\n",
    "\n",
    "print(a)\n",
    "def calc_adj(a,p):\n",
    "    cnt=0\n",
    "    for f in directions:\n",
    "        cnt+=search(f,a,p)\n",
    "    return cnt\n"
   ]
  },
  {
   "cell_type": "code",
   "execution_count": 78,
   "metadata": {},
   "outputs": [
    {
     "name": "stdout",
     "output_type": "stream",
     "text": [
      "[[ 0 -1  0  0 -1  0  0 -1  0  0]\n",
      " [ 0  0  0  0  0  0  0 -1  0  0]\n",
      " [ 0 -1  0 -1  0 -1 -1  0 -1 -1]\n",
      " [ 0  0  0  0 -1  0  0 -1  0  0]\n",
      " [ 0 -1  0  0 -1  0  0 -1  0  0]\n",
      " [ 0 -1  0  0  0  0  0 -1  0  0]\n",
      " [-1 -1  0 -1  0 -1 -1 -1 -1 -1]\n",
      " [ 0  0  0  0  0  0  0  0  0  0]\n",
      " [ 0 -1  0  0  0  0  0  0 -1  0]\n",
      " [ 0 -1  0  0  0  0  0 -1  0  0]]\n",
      "Stable!!!\n",
      "Rounds : 2\n",
      "44\n"
     ]
    }
   ],
   "source": [
    "import re\n",
    "import numpy as np\n",
    "file1 = open('sample.txt', 'r') \n",
    "Lines = file1.readlines() \n",
    "  \n",
    "# Strips the newline character \n",
    "mat=[]\n",
    "for line in Lines: \n",
    "    s = line.replace(\".\", \"-1 \").replace(\"L\",\"0 \")\n",
    "    x = np.fromstring(s, dtype=int, sep=' ')\n",
    "    mat.append(x)\n",
    "seats=np.array(mat)\n",
    "\n",
    "seats_a = np.copy(seats);\n",
    "seats_b = np.copy(seats);\n",
    "print(seats)\n",
    "for l in range(1,10):\n",
    "     seats_b = np.copy(seats_a)\n",
    "    for i in range(seats.shape[0]):\n",
    "        for j in range(seats.shape[1]):\n",
    "            if (seats_a[i,j]==0):\n",
    "                occupied= calc_adj(seats_a,(i,j))\n",
    "                if occupied == 0 :\n",
    "                    seats_b[i,j] = 1;\n",
    "    seats_a = np.copy(seats_b)\n",
    "    print(seats_a)\n",
    "    for i in range(seats.shape[0]):\n",
    "        for j in range(seats.shape[1]):\n",
    "            if (seats_b[i,j]>0):\n",
    "                occupied= calc_adj(seats_b,(i,j))\n",
    "                if occupied >= 5 :\n",
    "                    seats_a[i,j] = 0;\n",
    "    if (seats_b==seats_a).all():\n",
    "        print(\"Stable!!!\");\n",
    "        break\n",
    "print(f\"Rounds : {l}\")        \n",
    "\n",
    "print((seats_b == 1).sum())\n",
    "\n"
   ]
  }
 ],
 "metadata": {
  "kernelspec": {
   "display_name": "Python 3",
   "language": "python",
   "name": "python3"
  },
  "language_info": {
   "codemirror_mode": {
    "name": "ipython",
    "version": 3
   },
   "file_extension": ".py",
   "mimetype": "text/x-python",
   "name": "python",
   "nbconvert_exporter": "python",
   "pygments_lexer": "ipython3",
   "version": "3.8.3"
  }
 },
 "nbformat": 4,
 "nbformat_minor": 4
}
