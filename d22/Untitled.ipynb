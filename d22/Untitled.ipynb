{
 "cells": [
  {
   "cell_type": "code",
   "execution_count": 56,
   "metadata": {},
   "outputs": [
    {
     "name": "stdout",
     "output_type": "stream",
     "text": [
      "Player 1\n",
      "Player 2\n",
      "{'Player 1': [28, 13, 25, 16, 38, 3, 14, 6, 29, 2, 47, 20, 35, 43, 30, 39, 21, 42, 50, 48, 23, 11, 34, 24, 41], 'Player 2': [27, 37, 9, 10, 17, 31, 19, 33, 40, 12, 32, 1, 18, 36, 49, 46, 26, 4, 45, 8, 15, 5, 44, 22, 7]}\n",
      "Game ended, winner : Player 1\n",
      "Deck : [8, 7, 5, 1, 44, 42, 45, 41, 30, 25, 33, 32, 47, 26, 27, 24, 23, 17, 22, 9, 18, 16, 50, 36, 46, 35, 48, 15, 20, 4, 34, 28, 14, 10, 49, 31, 40, 21, 43, 39, 29, 12, 38, 19, 13, 11, 37, 3, 6, 2]\n",
      "Ans : 33694\n"
     ]
    }
   ],
   "source": [
    "import numpy as np\n",
    "\n",
    "fname = \"input.txt\"\n",
    "game={}\n",
    "for line in open(fname, \"r\").readlines():\n",
    "    if \"Player\" in line:\n",
    "        name=line[:-2]\n",
    "        stack=[]\n",
    "        print(name)\n",
    "    elif line==\"\\n\":\n",
    "        game[name]=stack;\n",
    "    else:\n",
    "        stack.append(int(line))\n",
    "print(game)\n",
    "\n",
    "p0='Player 1'\n",
    "p1='Player 2'\n",
    "winner='None'\n",
    "\n",
    "for loop in range(1,1000):\n",
    "    if (game[p0]==[]):\n",
    "        winner=p1;\n",
    "        break;\n",
    "    if (game[p1]==[]):\n",
    "        winner=p0;\n",
    "        break;\n",
    "    \n",
    "    if game[p0][0]>game[p1][0]:\n",
    "        win,los=p0,p1;\n",
    "    else:\n",
    "        win,los=p1,p0;\n",
    "    card_win = game[win].pop(0)\n",
    "    game[win].append(card_win)\n",
    "    game[win].append(game[los][0])\n",
    "    game[los].pop(0)\n",
    "    if 0:\n",
    "        print(f\"Loop {loop}\")\n",
    "        print(f\"Winner : {win}\")\n",
    "        print(game)\n",
    "\n",
    "if winner=='None':\n",
    "    print(\"Game failed to reach the end!\")\n",
    "else:\n",
    "    print(f\"Game ended, winner : {winner}\");\n",
    "    print(f\"Deck : {game[winner]}\");\n",
    "    scaler = np.arange(len(game[winner]),0, -1)\n",
    "    ans =np.sum( np.multiply(game[winner],scaler))\n",
    "    print(f\"Ans : {ans}\")\n",
    "\n",
    "    "
   ]
  }
 ],
 "metadata": {
  "kernelspec": {
   "display_name": "Python 3",
   "language": "python",
   "name": "python3"
  },
  "language_info": {
   "codemirror_mode": {
    "name": "ipython",
    "version": 3
   },
   "file_extension": ".py",
   "mimetype": "text/x-python",
   "name": "python",
   "nbconvert_exporter": "python",
   "pygments_lexer": "ipython3",
   "version": "3.8.3"
  }
 },
 "nbformat": 4,
 "nbformat_minor": 4
}
