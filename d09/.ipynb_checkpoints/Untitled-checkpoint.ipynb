{
 "cells": [
  {
   "cell_type": "code",
   "execution_count": 10,
   "metadata": {},
   "outputs": [
    {
     "name": "stdout",
     "output_type": "stream",
     "text": [
      "136:745\n",
      "Err!\n",
      "234:11458\n",
      "Err!\n",
      "267:24627\n",
      "Err!\n",
      "329:181632\n",
      "Err!\n",
      "500:14360655\n",
      "Err!\n",
      "561:168878501\n",
      "Err!\n",
      "614:1204359568\n",
      "Err!\n",
      "652:3212464237\n",
      "Err!\n",
      "698:10494088919\n",
      "Err!\n",
      "729:33386052297\n",
      "Err!\n",
      "791:197909758455\n",
      "Err!\n",
      "805:441568359796\n",
      "Err!\n",
      "888:4305569974166\n",
      "Err!\n",
      "901:7524212031749\n",
      "Err!\n"
     ]
    }
   ],
   "source": [
    "import numpy as np\n",
    "import itertools\n",
    "# txt='sample_input.txt'\n",
    "txt='data.txt'\n",
    "data = np.loadtxt(txt,dtype=int)\n",
    "\n",
    "\n",
    "L=3\n",
    "for i in range(L+1,len(data)-1):\n",
    "    \n",
    "    x = data[i+1]\n",
    "#     print(f\"{i}:{x}\")\n",
    "    win = data[i-L:i];\n",
    "    comb = itertools.combinations(win, 2)\n",
    "    found=False\n",
    "    for c in comb:\n",
    "        s = c[0] + c[1]\n",
    "        #print(f\"{c[0]}+{c[1]}={s}\")\n",
    "        if (s==x)and(c[0]!=c[1]):\n",
    "            found=True;\n",
    "            break;\n",
    "    if found==False:\n",
    "        print(f\"{i}:{x}\")\n",
    "        print(\"Err!\");\n",
    "#         break;\n",
    "    \n",
    "    \n",
    "    "
   ]
  },
  {
   "cell_type": "code",
   "execution_count": 11,
   "metadata": {},
   "outputs": [
    {
     "name": "stdout",
     "output_type": "stream",
     "text": [
      "(1, 2)\n",
      "(1, 3)\n",
      "(1, 4)\n",
      "(2, 3)\n",
      "(2, 4)\n",
      "(3, 4)\n"
     ]
    }
   ],
   "source": [
    "for c in itertools.combinations([1,2,3,4], 2):\n",
    "    print(c)"
   ]
  }
 ],
 "metadata": {
  "kernelspec": {
   "display_name": "Python 3",
   "language": "python",
   "name": "python3"
  },
  "language_info": {
   "codemirror_mode": {
    "name": "ipython",
    "version": 3
   },
   "file_extension": ".py",
   "mimetype": "text/x-python",
   "name": "python",
   "nbconvert_exporter": "python",
   "pygments_lexer": "ipython3",
   "version": "3.8.3"
  }
 },
 "nbformat": 4,
 "nbformat_minor": 4
}
