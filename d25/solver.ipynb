{
 "cells": [
  {
   "cell_type": "code",
   "execution_count": 22,
   "metadata": {},
   "outputs": [
    {
     "name": "stdout",
     "output_type": "stream",
     "text": [
      "Val : 5764801 <=> card_pub 5764801 ?\n",
      "Ok!\n",
      "Val : 17807724 <=> card_pub 17807724 ?\n",
      "Ok!\n",
      "Secret : 14897079 ?\n"
     ]
    }
   ],
   "source": [
    "input = [3418282,8719412]\n",
    "div = 20201227\n",
    "def encode(subj, loop_size):\n",
    "    val = 1;\n",
    "    for loop in range(loop_size):\n",
    "        val = (val*subj)%div\n",
    "    return val\n",
    "\n",
    "loop_card = 8;\n",
    "loop_door = 11;\n",
    "\n",
    "subj = 7;\n",
    "\n",
    "card_pub_ref = 5764801;\n",
    "card_pub = encode(subj,loop_card );\n",
    "print(f\"Val : {card_pub_ref} <=> card_pub { card_pub} ?\")\n",
    "if (card_pub_ref==card_pub):\n",
    "    print(\"Ok!\")\n",
    "\n",
    "    \n",
    "door_pub_ref = 17807724;\n",
    "door_pub  = encode(subj, loop_door)\n",
    "print(f\"Val : {door_pub} <=> card_pub { door_pub_ref} ?\")\n",
    "if (door_pub==door_pub_ref):\n",
    "    print(\"Ok!\")\n",
    "\n",
    "secret = encode(door_pub,loop_card );\n",
    "print(f\"Secret : {secret} ?\")\n",
    "\n"
   ]
  },
  {
   "cell_type": "code",
   "execution_count": null,
   "metadata": {},
   "outputs": [
    {
     "name": "stdout",
     "output_type": "stream",
     "text": [
      "0...\n",
      "5000000...\n",
      "Found 0 3418282, loop_size = 8987376 ! \n"
     ]
    }
   ],
   "source": [
    "pub_keys = [3418282,8719412]\n",
    "#pub_keys = [7278778,10978347]\n",
    "#pub_keys = [5764801,17807724 ]\n",
    "max_key = 50000000;\n",
    "subj = 7\n",
    "val = 1;\n",
    "\n",
    "found  = [False,False]\n",
    "ans = [0,0]\n",
    "\n",
    "for loop_size in range(max_key):\n",
    "    val = (val*subj)%div\n",
    "        \n",
    "    \n",
    "    if ((loop_size/max_key)*100)%10==0:\n",
    "        print(f\"{loop_size}...\")\n",
    "        \n",
    "    for i in range(2):\n",
    "        if ( val == pub_keys[i]) :\n",
    "            print(f\"Found {i} {val}, loop_size = {loop_size+1} ! \")\n",
    "            found[i] = True;\n",
    "            ans[i] = loop_size+1\n",
    "    if all(found):\n",
    "        break;\n",
    "if all(found):\n",
    "    print(f\"Ans: [{ans[0]}] [{ans[1]}]\")\n",
    "    encr_0 = encode(pub_keys[0], ans[1])\n",
    "    encr_1 = encode(pub_keys[1], ans[0])\n",
    "    print(encr_0) # Not Okay!\n",
    "    print(encr_1)\n",
    "    print(f\"Secret Code :{encr_0} \")\n",
    "else:\n",
    "    print(f\"Not found :( , {ans}\")\n",
    "\n",
    "    "
   ]
  },
  {
   "cell_type": "code",
   "execution_count": 72,
   "metadata": {},
   "outputs": [
    {
     "name": "stdout",
     "output_type": "stream",
     "text": [
      "9620012\n",
      "9620012\n"
     ]
    }
   ],
   "source": []
  }
 ],
 "metadata": {
  "kernelspec": {
   "display_name": "Python 3",
   "language": "python",
   "name": "python3"
  },
  "language_info": {
   "codemirror_mode": {
    "name": "ipython",
    "version": 3
   },
   "file_extension": ".py",
   "mimetype": "text/x-python",
   "name": "python",
   "nbconvert_exporter": "python",
   "pygments_lexer": "ipython3",
   "version": "3.8.3"
  }
 },
 "nbformat": 4,
 "nbformat_minor": 4
}
