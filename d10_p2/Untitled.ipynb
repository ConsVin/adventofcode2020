{
 "cells": [
  {
   "cell_type": "code",
   "execution_count": 37,
   "metadata": {},
   "outputs": [
    {
     "name": "stdout",
     "output_type": "stream",
     "text": [
      "259172170858496\n"
     ]
    }
   ],
   "source": [
    "import numpy as np\n",
    "fname='sample.txt'\n",
    "data = np.loadtxt(fname)\n",
    "data = np.sort(np.append(data,[0,np.max(data)+3])).astype(int)\n",
    "sum_vec = np.zeros(int(np.max(data))+1)\n",
    "sum_vec[-1]=1\n",
    "for t in reversed(data[:-1]):\n",
    "    sum_vec[t] = sum_vec[t+1] +  sum_vec[t+2] + sum_vec[t+3]\n",
    "print(int(sum_vec[0]))\n"
   ]
  }
 ],
 "metadata": {
  "kernelspec": {
   "display_name": "Python 3",
   "language": "python",
   "name": "python3"
  },
  "language_info": {
   "codemirror_mode": {
    "name": "ipython",
    "version": 3
   },
   "file_extension": ".py",
   "mimetype": "text/x-python",
   "name": "python",
   "nbconvert_exporter": "python",
   "pygments_lexer": "ipython3",
   "version": "3.8.3"
  }
 },
 "nbformat": 4,
 "nbformat_minor": 4
}
