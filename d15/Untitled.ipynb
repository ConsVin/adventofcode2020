{
 "cells": [
  {
   "cell_type": "code",
   "execution_count": 77,
   "metadata": {},
   "outputs": [
    {
     "name": "stdout",
     "output_type": "stream",
     "text": [
      "436\n"
     ]
    }
   ],
   "source": [
    "import numpy as np\n",
    "inp = np.array([13,0,10,12,1,5,8])\n",
    "inp = np.array([0,3,6]);\n",
    "\n",
    "spoken_list = np.copy(inp);\n",
    "n = len(inp)\n",
    "for i in range(n,2020):\n",
    "    if not(spoken_list[-1] in spoken_list[:-1]):\n",
    "        spoken=0;\n",
    "    else:\n",
    "        w = np.where(spoken_list == spoken_list[-1])[0]\n",
    "        pair = w[-2:]\n",
    "        spoken = pair[1] - pair[0]\n",
    "    spoken_list=np.append(spoken_list,spoken)\n",
    "print(spoken_list[-1])"
   ]
  },
  {
   "cell_type": "code",
   "execution_count": 108,
   "metadata": {},
   "outputs": [
    {
     "name": "stdout",
     "output_type": "stream",
     "text": [
      "950\n"
     ]
    }
   ],
   "source": [
    "mem={}\n",
    "#inp = np.array([0,3,6]);\n",
    "inp = np.array([13,0,10,12,1,5,8])\n",
    "for i,x in enumerate(inp[:-1]):\n",
    "    mem[x]=i+1\n",
    "n=len(inp)\n",
    "spoken=inp[-1]\n",
    "N = 30000000;\n",
    "for i in range(n,N):\n",
    "    x = spoken;\n",
    "    if x in mem:\n",
    "        spoken = i - mem[spoken]\n",
    "        mem[x] = i;\n",
    "    else:\n",
    "        mem[spoken] = i;\n",
    "        spoken = 0;\n",
    "    \n",
    "\n",
    "print(spoken)\n",
    "    "
   ]
  },
  {
   "cell_type": "code",
   "execution_count": 110,
   "metadata": {},
   "outputs": [
    {
     "data": {
      "text/plain": [
       "3611925"
      ]
     },
     "execution_count": 110,
     "metadata": {},
     "output_type": "execute_result"
    }
   ],
   "source": [
    "len(mem)"
   ]
  }
 ],
 "metadata": {
  "kernelspec": {
   "display_name": "Python 3",
   "language": "python",
   "name": "python3"
  },
  "language_info": {
   "codemirror_mode": {
    "name": "ipython",
    "version": 3
   },
   "file_extension": ".py",
   "mimetype": "text/x-python",
   "name": "python",
   "nbconvert_exporter": "python",
   "pygments_lexer": "ipython3",
   "version": "3.8.3"
  }
 },
 "nbformat": 4,
 "nbformat_minor": 4
}
