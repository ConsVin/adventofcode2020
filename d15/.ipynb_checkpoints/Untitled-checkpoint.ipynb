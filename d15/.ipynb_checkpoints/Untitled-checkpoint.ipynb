{
 "cells": [
  {
   "cell_type": "code",
   "execution_count": 73,
   "metadata": {},
   "outputs": [
    {
     "name": "stdout",
     "output_type": "stream",
     "text": [
      "260\n"
     ]
    }
   ],
   "source": [
    "import numpy as np\n",
    "inp = np.array([13,0,10,12,1,5,8])\n",
    "inp = np.array([0,3,6]);\n",
    "\n",
    "spoken_list = np.copy(inp);\n",
    "n = len(inp)\n",
    "for i in range(n,2020):\n",
    "    if not(spoken_list[-1] in spoken_list[:-1]):\n",
    "        spoken=0;\n",
    "    else:\n",
    "        w = np.where(spoken_list == spoken_list[-1])[0]\n",
    "        pair = w[-2:]\n",
    "        spoken = pair[1] - pair[0]\n",
    "    spoken_list=np.append(spoken_list,spoken)\n",
    "print(spoken_list[-1])"
   ]
  },
  {
   "cell_type": "code",
   "execution_count": 76,
   "metadata": {},
   "outputs": [
    {
     "name": "stdout",
     "output_type": "stream",
     "text": [
      "{13: 0, 0: 1, 10: 2, 12: 3, 1: 4, 5: 5, 8: 6}\n"
     ]
    }
   ],
   "source": [
    "mem={}\n",
    "for i,x in enumerate(inp):\n",
    "    mem[x]=i\n",
    "print(mem)\n",
    "for i in range(n,2020)"
   ]
  }
 ],
 "metadata": {
  "kernelspec": {
   "display_name": "Python 3",
   "language": "python",
   "name": "python3"
  },
  "language_info": {
   "codemirror_mode": {
    "name": "ipython",
    "version": 3
   },
   "file_extension": ".py",
   "mimetype": "text/x-python",
   "name": "python",
   "nbconvert_exporter": "python",
   "pygments_lexer": "ipython3",
   "version": "3.8.3"
  }
 },
 "nbformat": 4,
 "nbformat_minor": 4
}
