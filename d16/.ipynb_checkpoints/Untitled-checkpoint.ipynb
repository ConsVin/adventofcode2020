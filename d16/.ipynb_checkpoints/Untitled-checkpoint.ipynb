{
 "cells": [
  {
   "cell_type": "code",
   "execution_count": 66,
   "metadata": {},
   "outputs": [
    {
     "name": "stdout",
     "output_type": "stream",
     "text": [
      "\n",
      "[ 7  1 14]\n",
      "[[7, 3, 47], [40, 4, 50], [55, 2, 20], [38, 6, 12]]\n",
      "71\n"
     ]
    }
   ],
   "source": [
    "import numpy as np\n",
    "\n",
    "file1 = open('sample.txt', 'r') \n",
    "Lines = file1.readlines() \n",
    "  \n",
    "# Strips the newline character \n",
    "\n",
    "# Read conditions\n",
    "cond={}\n",
    "for i,line in enumerate(Lines): \n",
    "    a=line.strip().split(\":\")\n",
    "    if len(a)==1:\n",
    "        your_ticket = np.fromstring(Lines[i+2],sep=',',dtype=int)\n",
    "        line_others = i+5;\n",
    "        break\n",
    "    cond[a[0]] = [ [int (a)for a in c.split('-')] for c in a[1].split(' or ')]\n",
    "#  Read Your Ticket\n",
    "print()\n",
    "    \n",
    "def is_valid(x,cond):\n",
    "    for c in cond:\n",
    "        for r in cond[c]:\n",
    "            if x>=r[0] and x<=r[1]:\n",
    "                return True\n",
    "    return False\n",
    "\n",
    "is_valid(43,cond)  \n",
    "print(your_ticket)\n",
    "others=[]\n",
    "for line in Lines[line_others:]:\n",
    "    others.append(list(np.fromstring(line,sep=',',dtype=int)))\n",
    "\n",
    "bad_numbers=[]\n",
    "print(others)\n",
    "for o in others:\n",
    "    for x in o:\n",
    "        if not(is_valid(x,cond)):\n",
    "            bad_numbers.append(x)\n",
    "print(np.sum(bad_numbers))"
   ]
  },
  {
   "cell_type": "code",
   "execution_count": 112,
   "metadata": {},
   "outputs": [
    {
     "name": "stdout",
     "output_type": "stream",
     "text": [
      "[11 12 13]\n",
      "[[ 3  9 18]\n",
      " [15  1  5]\n",
      " [15  1  5]\n",
      " [ 5 14  9]\n",
      " [ 5 14  9]]\n",
      "{'class': [[0, 1], [4, 19]], 'row': [[0, 5], [8, 19]], 'seat': [[0, 13], [16, 19]]}\n",
      "[1 2]\n",
      "[0 1 2]\n",
      "[2]\n"
     ]
    },
    {
     "data": {
      "text/plain": [
       "[[1, 2], [0, 1, 2], [2]]"
      ]
     },
     "execution_count": 112,
     "metadata": {},
     "output_type": "execute_result"
    }
   ],
   "source": [
    "import numpy as np\n",
    "# from collections import OrderedDict \n",
    "\n",
    "\n",
    "file1 = open('sample_b.txt', 'r') \n",
    "Lines = file1.readlines() \n",
    "  \n",
    "# Strips the newline character \n",
    "\n",
    "# Read conditions\n",
    "cond={}\n",
    "for i,line in enumerate(Lines): \n",
    "    a=line.strip().split(\":\")\n",
    "    if len(a)==1:\n",
    "        your_ticket = np.fromstring(Lines[i+2],sep=',',dtype=int)\n",
    "        line_others = i+5;\n",
    "        break\n",
    "    cond[a[0]] = [ [int (a)for a in c.split('-')] for c in a[1].split(' or ')]\n",
    "    \n",
    "def is_valid(x,cond):\n",
    "    for c in cond:\n",
    "        for r in cond[c]:\n",
    "            if x>=r[0] and x<=r[1]:\n",
    "                return True\n",
    "    return False\n",
    "\n",
    "is_valid(43,cond)  \n",
    "\n",
    "others=[]\n",
    "for line in Lines[line_others:]:\n",
    "    others.append(list(np.fromstring(line,sep=',',dtype=int)))\n",
    "\n",
    "valid_tickets=[]\n",
    "for o in others:\n",
    "    v = [ is_valid(x,cond) for x in o]\n",
    "    if all(v):\n",
    "        valid_tickets.append(o)\n",
    "valid_tickets = np.array(valid_tickets)\n",
    "\n",
    "print(your_ticket)\n",
    "print(valid_tickets)\n",
    "print(cond)\n",
    "C = len(cond)\n",
    "N = len(valid_tickets)\n",
    "def is_ok(x,c):\n",
    "    ranges = list(cond.values())[c] ;\n",
    "    #print([ranges,x])\n",
    "    for r in ranges:\n",
    "        if x>=r[0] and x<=r[1]:\n",
    "            return True\n",
    "    return False\n",
    "\n",
    "possible_list = []\n",
    "for c0 in range(C):\n",
    "    mat=np.zeros([C,N], dtype=bool)\n",
    "    for c1 in range(C):\n",
    "        for n in range(N):\n",
    "            mat[c1,n] = is_ok(valid_tickets[n,c1], c0)\n",
    "    #print(f\"----------{list(cond.keys())[c0]}\")\n",
    "    #print(mat)\n",
    "    #print(mat.all(axis=1))\n",
    "    possible = (np.argwhere(mat.all(axis=1))).T[0]\n",
    "    possible_list.append(list(possible))\n",
    "    print(possible)\n",
    "    \n"
   ]
  },
  {
   "cell_type": "code",
   "execution_count": 129,
   "metadata": {},
   "outputs": [
    {
     "name": "stdout",
     "output_type": "stream",
     "text": [
      "{0: [1, 2], 1: [0, 1, 2], 2: [2]}\n",
      "Solved for Row 2, found answer [2]\n"
     ]
    },
    {
     "data": {
      "text/plain": [
       "{0: [1], 1: [0, 1], 2: []}"
      ]
     },
     "execution_count": 129,
     "metadata": {},
     "output_type": "execute_result"
    }
   ],
   "source": [
    "possible_list\n",
    "possible_dict = {}\n",
    "for i,l in enumerate(possible_list):\n",
    "    possible_dict[i] = l;\n",
    "print(possible_dict)\n",
    "\n",
    "# Look for Unique\n",
    "for k in possible_dict.keys():\n",
    "    if 1==len(possible_dict[k]):\n",
    "        solved_col = k;\n",
    "        allocated_cond = possible_dict[k];\n",
    "        print(f\"Solved for Row {k}, found answer {allocated}\")\n",
    "        break;\n",
    "#Exclude found answer from other\n",
    "for k in possible_dict.keys():\n",
    "    if allocated in possible_dict[k]:\n",
    "        possible_dict[k].remove(allocated)\n",
    "possible_dict.pop(k)\n",
    "\n",
    "        \n",
    "\n",
    "    \n",
    "    \n"
   ]
  },
  {
   "cell_type": "code",
   "execution_count": 83,
   "metadata": {},
   "outputs": [
    {
     "name": "stdout",
     "output_type": "stream",
     "text": [
      "[[0 1 0]\n",
      " [1 1 0]\n",
      " [1 1 1]]\n",
      "Solved for rows 2 with ans 2\n",
      "[[0 1 0]\n",
      " [1 1 0]\n",
      " [0 0 0]]\n"
     ]
    }
   ],
   "source": [
    "sudoku = np.zeros([C,C], dtype=int)\n",
    "for i,idxs in enumerate(possible_list):\n",
    "    for j in idxs:\n",
    "        sudoku[j,i]=1;\n",
    "print(sudoku)    \n",
    "\n",
    "n_allowed = np.sum(sudoku,axis=0)\n",
    "row_idx   = np.argwhere(n_allowed==1)[0][0]\n",
    "cond_idx  = np.argwhere(sudoku[:,row_idx])[0]\n",
    "print(f\"Solved for rows {row_idx} with ans {row_idx}\") \n",
    "sudoku[cond_idx,:]=0;\n",
    "print(sudoku)\n",
    "\n",
    "    \n"
   ]
  },
  {
   "cell_type": "code",
   "execution_count": 84,
   "metadata": {},
   "outputs": [
    {
     "data": {
      "text/plain": [
       "[[array([1]), array([2])], [array([0]), array([1]), array([2])], [array([2])]]"
      ]
     },
     "execution_count": 84,
     "metadata": {},
     "output_type": "execute_result"
    }
   ],
   "source": [
    "possible_list"
   ]
  }
 ],
 "metadata": {
  "kernelspec": {
   "display_name": "Python 3",
   "language": "python",
   "name": "python3"
  },
  "language_info": {
   "codemirror_mode": {
    "name": "ipython",
    "version": 3
   },
   "file_extension": ".py",
   "mimetype": "text/x-python",
   "name": "python",
   "nbconvert_exporter": "python",
   "pygments_lexer": "ipython3",
   "version": "3.8.3"
  }
 },
 "nbformat": 4,
 "nbformat_minor": 4
}
