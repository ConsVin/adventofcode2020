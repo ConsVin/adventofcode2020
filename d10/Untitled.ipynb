{
 "cells": [
  {
   "cell_type": "code",
   "execution_count": 34,
   "metadata": {},
   "outputs": [
    {
     "name": "stdout",
     "output_type": "stream",
     "text": [
      "[28 33 18 42 31 14 46 20 48 47 24 23 49 45 19 38 39 11  1 32 25 35  8 17\n",
      "  7  9  4  2 34 10  3 52  0]\n",
      "[33, array([ 0,  1,  2,  3,  4,  7,  8,  9, 10, 11, 14, 17, 18, 19, 20, 23, 24,\n",
      "       25, 28, 31, 32, 33, 34, 35, 38, 39, 42, 45, 46, 47, 48, 49, 52])]\n",
      "[32, array([1, 1, 1, 1, 3, 1, 1, 1, 1, 3, 3, 1, 1, 1, 3, 1, 1, 3, 3, 1, 1, 1,\n",
      "       1, 3, 1, 3, 3, 1, 1, 1, 1, 3])]\n",
      "[1, 22]\n",
      "[3, 10]\n",
      "220\n"
     ]
    }
   ],
   "source": [
    "import numpy as np\n",
    "import itertools\n",
    "txt='sample_a.txt'\n",
    "data = np.loadtxt(txt,dtype=int)\n",
    "data = np.append(data,np.max(data)+3)\n",
    "data = np.append(data,0)\n",
    "print(data)\n",
    "\n",
    "data=np.sort(data)\n",
    "diff=data[1:]-data[0:-1]\n",
    "print([len(data),data])\n",
    "print([len(diff),diff])\n",
    "\n",
    "prod=1\n",
    "for t in np.unique(diff):\n",
    "    n=(diff==t).sum()\n",
    "    prod*=n\n",
    "    print([t,n])\n",
    "print(prod)"
   ]
  },
  {
   "cell_type": "code",
   "execution_count": 26,
   "metadata": {},
   "outputs": [
    {
     "name": "stdout",
     "output_type": "stream",
     "text": [
      "[ 1  4  5  6  7 10 11 12 15 16 19 33 33 33 33 33 33 33 33 36  0]\n"
     ]
    }
   ],
   "source": [
    "\n"
   ]
  }
 ],
 "metadata": {
  "kernelspec": {
   "display_name": "Python 3",
   "language": "python",
   "name": "python3"
  },
  "language_info": {
   "codemirror_mode": {
    "name": "ipython",
    "version": 3
   },
   "file_extension": ".py",
   "mimetype": "text/x-python",
   "name": "python",
   "nbconvert_exporter": "python",
   "pygments_lexer": "ipython3",
   "version": "3.8.3"
  }
 },
 "nbformat": 4,
 "nbformat_minor": 4
}
