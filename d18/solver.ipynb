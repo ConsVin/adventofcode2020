{
 "cells": [
  {
   "cell_type": "code",
   "execution_count": 26,
   "metadata": {},
   "outputs": [
    {
     "data": {
      "text/plain": [
       "102"
      ]
     },
     "execution_count": 26,
     "metadata": {},
     "output_type": "execute_result"
    }
   ],
   "source": [
    "def plus(a,b):\n",
    "    return a+b\n",
    "def mult(a,b):\n",
    "    return a*b\n",
    "\n",
    "def solve(s):\n",
    "    s=s.replace(\" \",\"\")\n",
    "    stack=None\n",
    "    stack_data = []\n",
    "    stack_oper = []\n",
    "    result  = None\n",
    "    f = None\n",
    "    for c in s:\n",
    "        if c==\"(\":\n",
    "            stack_data.append(result)\n",
    "            stack_oper.append(f);\n",
    "            result= None\n",
    "            f=None\n",
    "        elif c==\")\":\n",
    "            f_prim = stack_oper.pop();\n",
    "            d_prim = stack_data.pop();\n",
    "            if d_prim==None:\n",
    "                pass;\n",
    "            else:\n",
    "                result = f_prim(d_prim, result);\n",
    "\n",
    "        elif c == \"*\":\n",
    "            f = mult;\n",
    "        elif c == \"+\":\n",
    "            f = plus;\n",
    "        elif c.isdigit():\n",
    "            if result==None:\n",
    "                result=int(c);\n",
    "            else:\n",
    "                result = f(result, int(c));\n",
    "       # print([c,result, stack_data, stack_oper])\n",
    "    return result\n",
    "s = \"(2 + 3) * (4*5) + 2\"\n",
    "solve(s)"
   ]
  },
  {
   "cell_type": "markdown",
   "metadata": {},
   "source": [
    "```\n",
    "\n",
    "2 * 3 + (4 * 5) becomes 26.\n",
    "5 + (8 * 3 + 9 + 3 * 4 * 3) becomes 437.\n",
    "5 * 9 * (7 * 3 * 3 + 9 * 3 + (8 + 6 * 4)) becomes 12240.\n",
    "((2 + 4 * 9) * (6 + 9 * 8 + 6) + 6) + 2 + 4 * 2 becomes 13632.\n",
    "```"
   ]
  },
  {
   "cell_type": "code",
   "execution_count": 2,
   "metadata": {},
   "outputs": [
    {
     "name": "stdout",
     "output_type": "stream",
     "text": [
      "2 * 3 + (4 * 5)\n",
      "5 + (8 * 3 + 9 + 3 * 4 * 3)\n",
      "5 * 9 * (7 * 3 * 3 + 9 * 3 + (8 + 6 * 4))\n",
      "((2 + 4 * 9) * (6 + 9 * 8 + 6) + 6) + 2 + 4 * 2\n"
     ]
    }
   ],
   "source": [
    "file1 = open('sample.txt', 'r') \n",
    "Lines = file1.readlines() \n",
    "for l in Lines:\n",
    "    print(solve(l.strip()))\n"
   ]
  },
  {
   "cell_type": "code",
   "execution_count": 27,
   "metadata": {},
   "outputs": [
    {
     "name": "stdout",
     "output_type": "stream",
     "text": [
      "98621258158412\n"
     ]
    }
   ],
   "source": [
    "file1 = open('input.txt', 'r') \n",
    "Lines = file1.readlines() \n",
    "r = 0\n",
    "for l in Lines:\n",
    "    r += solve(l.strip())\n",
    "print(r)\n"
   ]
  },
  {
   "cell_type": "code",
   "execution_count": 59,
   "metadata": {},
   "outputs": [
    {
     "name": "stdout",
     "output_type": "stream",
     "text": [
      "(2 + 3) * (4*5) + 2 * 3+(8*2+1)\n",
      "((2+3))*((4*5)+2)*(3+(8*(2+1)))\n"
     ]
    }
   ],
   "source": [
    "\n",
    "def add_brackets(s):\n",
    "    s = s.replace(\" \",\"\")\n",
    "    p = 0;\n",
    "    for loop in range(2000):\n",
    "        if (p>=len(s)):\n",
    "            break;\n",
    "        if s[p]=='+':\n",
    "            #print(s[p-1:p+2])\n",
    "            #print(s[p-1])\n",
    "            if s[p-1].isdigit():\n",
    "                s = s[:p-1] + \"(\" + s[p-1:]\n",
    "                p+=1\n",
    "            elif s[p-1]==\")\":\n",
    "                cnt = 1;\n",
    "                c = p-1;\n",
    "                while cnt>0:\n",
    "                    c-=1;\n",
    "                    if s[c]==\"(\":\n",
    "                        cnt-=1;\n",
    "                    elif s[c]==\")\":\n",
    "                        cnt+=1;\n",
    "              #  print(f\"L Found at {c}!\")\n",
    "              #  print([s[:c], \"(\" , s[c:]])\n",
    "                s = s[:c] + \"(\" + s[c:]\n",
    "                p+=1;\n",
    "\n",
    "            else:\n",
    "                print(\"Parsing error!\")\n",
    "                break;\n",
    "            if s[p+1].isdigit():\n",
    "               # print([\"R\",s[p+1]])\n",
    "                s = s[:p+2] + \")\" + s[p+2:]\n",
    "            elif s[p+1]==\"(\":\n",
    "                cnt = 1;\n",
    "                c = p+1;\n",
    "                while cnt>0:\n",
    "                    c+=1;\n",
    "                    if s[c]==\"(\":\n",
    "                        cnt+=1;\n",
    "                    elif s[c]==\")\":\n",
    "                        cnt-=1;\n",
    "             #   print(f\"R Found at {c}!\")\n",
    "                s = s[:c] + \")\" + s[c:]\n",
    "\n",
    "\n",
    "        p+=1;\n",
    "        #print([loop,s,p, len(s)])\n",
    "\n",
    "    return s;\n",
    "s = \"(2 + 3) * (4*5) + 2 * 3+(8*2+1)\"\n",
    "s_d = add_brackets(s)\n",
    "print(s)\n",
    "print(s_d)\n"
   ]
  },
  {
   "cell_type": "markdown",
   "metadata": {},
   "source": [
    "```\n",
    "1 + (2 * 3) + (4 * (5 + 6)) still becomes 51.\n",
    "2 * 3 + (4 * 5) becomes 46.\n",
    "5 + (8 * 3 + 9 + 3 * 4 * 3) becomes 1445.\n",
    "5 * 9 * (7 * 3 * 3 + 9 * 3 + (8 + 6 * 4)) becomes 669060.\n",
    "((2 + 4 * 9) * (6 + 9 * 8 + 6) + 6) + 2 + 4 * 2 becomes 23340.\n",
    "```"
   ]
  },
  {
   "cell_type": "code",
   "execution_count": 64,
   "metadata": {},
   "outputs": [
    {
     "name": "stdout",
     "output_type": "stream",
     "text": [
      "['1 + (2 * 3) + (4 * (5 + 6))\\n', 51]\n",
      "['2 * 3 + (4 * 5)\\n', 46]\n",
      "['5 + (8 * 3 + 9 + 3 * 4 * 3)\\n', 1445]\n",
      "['5 * 9 * (7 * 3 * 3 + 9 * 3 + (8 + 6 * 4))\\n', 669060]\n",
      "['((2 + 4 * 9) * (6 + 9 * 8 + 6) + 6) + 2 + 4 * 2', 23340]\n"
     ]
    }
   ],
   "source": [
    "file1 = open('sample.txt', 'r') \n",
    "Lines = file1.readlines() \n",
    "for l in Lines:\n",
    "    s = l\n",
    "    s_br = add_brackets(s);\n",
    "    R = solve(s_br)\n",
    "    print([s, R])\n",
    "    "
   ]
  },
  {
   "cell_type": "code",
   "execution_count": 65,
   "metadata": {},
   "outputs": [
    {
     "name": "stdout",
     "output_type": "stream",
     "text": [
      "241216538527890\n"
     ]
    }
   ],
   "source": [
    "file1 = open('input.txt', 'r') \n",
    "Lines = file1.readlines() \n",
    "result=0;\n",
    "for l in Lines:\n",
    "    s = l\n",
    "    s_br = add_brackets(s);\n",
    "    R = solve(s_br)\n",
    "    result+=R\n",
    "print(result)"
   ]
  }
 ],
 "metadata": {
  "kernelspec": {
   "display_name": "Python 3",
   "language": "python",
   "name": "python3"
  },
  "language_info": {
   "codemirror_mode": {
    "name": "ipython",
    "version": 3
   },
   "file_extension": ".py",
   "mimetype": "text/x-python",
   "name": "python",
   "nbconvert_exporter": "python",
   "pygments_lexer": "ipython3",
   "version": "3.8.3"
  }
 },
 "nbformat": 4,
 "nbformat_minor": 4
}
