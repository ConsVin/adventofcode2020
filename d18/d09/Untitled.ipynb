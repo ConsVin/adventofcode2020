{
 "cells": [
  {
   "cell_type": "code",
   "execution_count": 26,
   "metadata": {},
   "outputs": [
    {
     "name": "stdout",
     "output_type": "stream",
     "text": [
      "501:14360655\n"
     ]
    }
   ],
   "source": [
    "import numpy as np\n",
    "import itertools\n",
    "txt='data.txt'\n",
    "data = np.loadtxt(txt,dtype=int)\n",
    "L=25\n",
    "for i in range(L,len(data)-1):\n",
    "    x    = data[i]\n",
    "    win  = data[i-L:i];\n",
    "    comb = itertools.combinations(win, 2)\n",
    "    found=False\n",
    "    for c in comb:\n",
    "        if (x==sum(c)):\n",
    "            found=True;\n",
    "            break;\n",
    "    if found==False:\n",
    "        print(f\"{i}:{x}\")\n",
    "        break;\n",
    "    \n",
    "    \n",
    "    "
   ]
  },
  {
   "cell_type": "code",
   "execution_count": 60,
   "metadata": {},
   "outputs": [
    {
     "name": "stdout",
     "output_type": "stream",
     "text": [
      "Found!\n",
      "[1962331, array([ 714065,  715497,  776112,  802598,  749876,  841964,  776204,\n",
      "        835117,  823680,  844572,  851440,  830638,  846284,  906078,\n",
      "       1248266,  880860,  917404])]\n",
      "Found!\n",
      "[28721310, array([14360655])]\n"
     ]
    }
   ],
   "source": [
    "import numpy as np\n",
    "import itertools\n",
    "txt='data.txt'\n",
    "target = 14360655\n",
    "\n",
    "#txt='sample_input.txt'\n",
    "#target = 127\n",
    "\n",
    "\n",
    "data = np.loadtxt(txt,dtype=int)\n",
    "\n",
    "for i in range(len(data)):\n",
    "    for j in range(i,len(data)):\n",
    "        win=data[i:j+1];\n",
    "        s = np.sum(win);\n",
    "        if s == target:\n",
    "            print(\"Found!\")\n",
    "            ans=np.max(win)+np.min(win)\n",
    "            print([ans,win])\n",
    "            break;\n",
    "        elif s>target:\n",
    "            break;\n",
    "    "
   ]
  },
  {
   "cell_type": "code",
   "execution_count": 57,
   "metadata": {},
   "outputs": [
    {
     "data": {
      "text/plain": [
       "1631469"
      ]
     },
     "execution_count": 57,
     "metadata": {},
     "output_type": "execute_result"
    }
   ],
   "source": [
    "714065+917404"
   ]
  }
 ],
 "metadata": {
  "kernelspec": {
   "display_name": "Python 3",
   "language": "python",
   "name": "python3"
  },
  "language_info": {
   "codemirror_mode": {
    "name": "ipython",
    "version": 3
   },
   "file_extension": ".py",
   "mimetype": "text/x-python",
   "name": "python",
   "nbconvert_exporter": "python",
   "pygments_lexer": "ipython3",
   "version": "3.8.3"
  }
 },
 "nbformat": 4,
 "nbformat_minor": 4
}
