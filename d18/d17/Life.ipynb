{
 "cells": [
  {
   "cell_type": "code",
   "execution_count": 22,
   "metadata": {},
   "outputs": [
    {
     "name": "stdout",
     "output_type": "stream",
     "text": [
      "Before : 1 : 43.0\n",
      "Loop 1 : 36.0\n",
      "Before : 2 : 36.0\n",
      "Loop 2 : 64.0\n",
      "Before : 3 : 64.0\n",
      "Loop 3 : 112.0\n",
      "Before : 4 : 112.0\n",
      "Loop 4 : 166.0\n",
      "Before : 5 : 166.0\n",
      "Loop 5 : 243.0\n",
      "Before : 6 : 243.0\n",
      "Loop 6 : 319.0\n"
     ]
    }
   ],
   "source": [
    "import numpy as np\n",
    "import itertools\n",
    "def read_input(fname=\"input.txt\"):\n",
    "    arrays=[]\n",
    "    for line in open(fname, \"r\").readlines():\n",
    "        s = line.strip().replace(\"#\",\"1,\").replace(\".\",\"0,\")\n",
    "        x = np.fromstring(s, dtype=int, sep=',')\n",
    "        arrays.append(x)\n",
    "    initial = np.stack(arrays, axis=0)\n",
    "    return initial\n",
    "\n",
    "#-------------------------------\n",
    "\n",
    "# initial = read_input('sample.txt')\n",
    "initial = read_input()\n",
    "D = 4;\n",
    "N = 15;\n",
    "\n",
    "#----------------------------------------\n",
    "\n",
    "S = 2*N+1\n",
    "space = np.zeros(np.ones(D,dtype=int)*S, dtype=np.ubyte)\n",
    "\n",
    "def get_neighbours(D):\n",
    "    neighbors = list(itertools.product([1,0,-1], repeat=D))\n",
    "    neighbors.remove(tuple(np.zeros(D,dtype=int)))\n",
    "    return neighbors\n",
    "\n",
    "coord=np.ones(D,dtype=int)*N;\n",
    "for i in range(initial.shape[0]):\n",
    "    for j in range(initial.shape[1]):\n",
    "        x,y = [i-1,j-1]\n",
    "        coord[-2:] = [x+N, y+N]\n",
    "        space[tuple(coord)] = initial[i,j]\n",
    "\n",
    "neighbors_idx = get_neighbours(D)\n",
    "d_space  = np.copy(space);\n",
    "\n",
    "for loop in range(6):\n",
    "    print(\"Run loop...\")\n",
    "    for coord in itertools.product(range(1,S-1), repeat=D):\n",
    "        cell = space[coord];\n",
    "        alive =0\n",
    "        for nb in neighbors_idx:\n",
    "            t = [sum(x) for x in zip(coord, nb)]\n",
    "            alive += space[tuple(t)]\n",
    "        if cell ==1:\n",
    "            if alive==2 or alive==3:\n",
    "                d_space[coord] = 1\n",
    "            else:\n",
    "                d_space[coord] = 0\n",
    "        else:\n",
    "            if (alive==3):\n",
    "                d_space[coord]=1;\n",
    "    space = np.copy(d_space);\n",
    "    print(f\"Loop {loop+1} : {np.sum(space)}\");\n",
    "    "
   ]
  }
 ],
 "metadata": {
  "kernelspec": {
   "display_name": "Python 3",
   "language": "python",
   "name": "python3"
  },
  "language_info": {
   "codemirror_mode": {
    "name": "ipython",
    "version": 3
   },
   "file_extension": ".py",
   "mimetype": "text/x-python",
   "name": "python",
   "nbconvert_exporter": "python",
   "pygments_lexer": "ipython3",
   "version": "3.8.3"
  }
 },
 "nbformat": 4,
 "nbformat_minor": 4
}
