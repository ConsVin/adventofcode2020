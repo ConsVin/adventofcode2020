{
 "cells": [
  {
   "cell_type": "code",
   "execution_count": 6,
   "metadata": {},
   "outputs": [
    {
     "name": "stdout",
     "output_type": "stream",
     "text": [
      "((2+4*9)*(6+9*8+6)+6)+2+4*2\n",
      "(\n",
      "(\n",
      "2\n",
      "+\n",
      "4\n",
      "*\n",
      "9\n",
      ")\n",
      "*\n",
      "(\n",
      "6\n",
      "+\n",
      "9\n",
      "*\n",
      "8\n",
      "+\n",
      "6\n",
      ")\n",
      "+\n",
      "6\n",
      ")\n",
      "+\n",
      "2\n",
      "+\n",
      "4\n",
      "*\n",
      "2\n"
     ]
    }
   ],
   "source": [
    "s = \"((2 + 4 * 9) * (6 + 9 * 8 + 6) + 6) + 2 + 4 * 2\"\n",
    "s=s.replace(\" \",\"\")\n",
    "eq=[]\n",
    "print(s)\n",
    "for c in s:\n",
    "    print(c)"
   ]
  }
 ],
 "metadata": {
  "kernelspec": {
   "display_name": "Python 3",
   "language": "python",
   "name": "python3"
  },
  "language_info": {
   "codemirror_mode": {
    "name": "ipython",
    "version": 3
   },
   "file_extension": ".py",
   "mimetype": "text/x-python",
   "name": "python",
   "nbconvert_exporter": "python",
   "pygments_lexer": "ipython3",
   "version": "3.8.3"
  }
 },
 "nbformat": 4,
 "nbformat_minor": 4
}
