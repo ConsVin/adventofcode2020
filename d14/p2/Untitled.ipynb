{
 "cells": [
  {
   "cell_type": "markdown",
   "metadata": {},
   "source": [
    "```\n",
    "If the bitmask bit is 0, the corresponding memory address bit is unchanged.\n",
    "If the bitmask bit is 1, the corresponding memory address bit is overwritten with 1.\n",
    "If the bitmask bit is X, the corresponding memory address bit is floating.\n",
    "```"
   ]
  },
  {
   "cell_type": "code",
   "execution_count": 51,
   "metadata": {},
   "outputs": [
    {
     "name": "stdout",
     "output_type": "stream",
     "text": [
      "[0, 1, 2, 3, 8, 9, 10, 11]\n"
     ]
    }
   ],
   "source": [
    "#mask_decode(mask)\n",
    "import numpy as np\n",
    "def mask2addr(addr):\n",
    "    mask=np.array(list(mask_str))\n",
    "    floatings = np.where(mask=='X')[0];\n",
    "    nf = len(floatings);\n",
    "    addr_list=[]\n",
    "    for i in range(2**nf):\n",
    "        binary = (\"{0:0%db}\"%nf).format(i)\n",
    "        addr = mask;\n",
    "        for b, k in zip(binary, floatings):\n",
    "            addr[k]=b;\n",
    "        addr_list.append( int(''.join(addr),2))\n",
    "    return addr_list    \n",
    "mask_str = \"00000000000000000000000000000000X0XX\"\n",
    "a = mask2addr(mask_str)\n",
    "print(a)"
   ]
  },
  {
   "cell_type": "code",
   "execution_count": 113,
   "metadata": {},
   "outputs": [
    {
     "data": {
      "text/plain": [
       "3434009980379"
      ]
     },
     "execution_count": 113,
     "metadata": {},
     "output_type": "execute_result"
    }
   ],
   "source": [
    "def mask2addr(mask_str, baddr):\n",
    "    mask=np.array(list(mask_str))\n",
    "    floatings = np.where(mask=='X')[0];\n",
    "    nf = len(floatings);\n",
    "    addr_list=[]\n",
    "    baddr_bin = list( (\"{0:0%db}\"%len(mask)).format(baddr) );\n",
    "    for i in range(2**nf):\n",
    "        binary = (\"{0:0%db}\"%nf).format(i)\n",
    "        addr = baddr_bin\n",
    "        for b, k in zip(binary, floatings):\n",
    "            addr[k]=b;\n",
    "        addr_list.append( int(''.join(addr),2))\n",
    "    return addr_list \n",
    "\n",
    "fname='input.txt'\n",
    "content = [x.strip() for x in open(fname).readlines()] \n",
    "mem={}\n",
    "for c in content:\n",
    "    a = c.split(' = ')\n",
    "    if a[0][:3]=='mem':\n",
    "        addr = int(a[0][4:-1])\n",
    "        wdata = int(a[1])\n",
    "        baddr = addr|mask_or;\n",
    "        addr_list = mask2addr(smask, baddr);\n",
    "        for a in addr_list:\n",
    "            mem[a]=wdata;\n",
    "    else:\n",
    "        smask = a[1]\n",
    "        mask_or = int(smask.replace('X','0'),2);\n",
    "sum(mem.values())"
   ]
  },
  {
   "cell_type": "code",
   "execution_count": 98,
   "metadata": {},
   "outputs": [
    {
     "name": "stdout",
     "output_type": "stream",
     "text": [
      "['0', '1', '0', '0', '0', '0', '1']\n",
      "0X0X0X1\n",
      "0000001\n",
      "0000011\n",
      "0001001\n",
      "0001011\n",
      "0100001\n",
      "0100011\n",
      "0101001\n",
      "0101011\n"
     ]
    },
    {
     "data": {
      "text/plain": [
       "[1, 3, 9, 11, 33, 35, 41, 43]"
      ]
     },
     "execution_count": 98,
     "metadata": {},
     "output_type": "execute_result"
    }
   ],
   "source": [
    "def mask2addr(mask_str, baddr):\n",
    "    mask=np.array(list(mask_str))\n",
    "    floatings = np.where(mask=='X')[0];\n",
    "    nf = len(floatings);\n",
    "    addr_list=[]\n",
    "    baddr_bin = list( (\"{0:0%db}\"%len(mask)).format(baddr) );\n",
    "    print(baddr_bin)\n",
    "    print(mask_str)\n",
    "    for i in range(2**nf):\n",
    "        binary = (\"{0:0%db}\"%nf).format(i)\n",
    "        addr = baddr_bin\n",
    "        for b, k in zip(binary, floatings):\n",
    "            addr[k]=b;\n",
    "        print(''.join(addr))\n",
    "        addr_list.append( int(''.join(addr),2))\n",
    "    return addr_list \n",
    "mask2addr('0X0X0X1',33)"
   ]
  }
 ],
 "metadata": {
  "kernelspec": {
   "display_name": "Python 3",
   "language": "python",
   "name": "python3"
  },
  "language_info": {
   "codemirror_mode": {
    "name": "ipython",
    "version": 3
   },
   "file_extension": ".py",
   "mimetype": "text/x-python",
   "name": "python",
   "nbconvert_exporter": "python",
   "pygments_lexer": "ipython3",
   "version": "3.8.3"
  }
 },
 "nbformat": 4,
 "nbformat_minor": 4
}
