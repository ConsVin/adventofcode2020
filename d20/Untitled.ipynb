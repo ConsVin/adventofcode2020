{
 "cells": [
  {
   "cell_type": "code",
   "execution_count": 97,
   "metadata": {},
   "outputs": [
    {
     "name": "stdout",
     "output_type": "stream",
     "text": [
      "9\n",
      "Match! 1951 1 1 => 2311 [0 1 1 1 1 1 0 0 1 0]=[0 1 1 1 1 1 0 0 1 0]\n",
      "[2311, 0, 1951, 1]\n"
     ]
    }
   ],
   "source": [
    "import numpy as np\n",
    "fname = \"sample.txt\"\n",
    "tiles={}\n",
    "for line in open(fname, \"r\").readlines():\n",
    "    if \"Tile\" in line:\n",
    "        tile_id = int(line.split(\" \")[1][:-2])\n",
    "        mat = []\n",
    "    elif line==\"\\n\":\n",
    "        tiles[tile_id] = np.array(mat);\n",
    "    else:\n",
    "        string = line.strip().replace(\"#\",'1 ').replace(\".\",'0 ')\n",
    "        mat.append(np.fromstring(string, dtype=int, sep=' '))\n",
    "def get_edges(tile):\n",
    "    edges=[\n",
    "        tile[:,0],\n",
    "        tile[:,-1],\n",
    "        tile[0,:],\n",
    "        tile[-1,:]\n",
    "    ]\n",
    "    return edges + [np.flip(e) for e in edges]\n",
    "print(len(tiles))\n",
    "\n",
    "edges={}\n",
    "for k in tiles:\n",
    "    edges[k]= get_edges(tiles[k]) \n",
    "\n",
    "tiles_idx = list(edges.keys())\n",
    "\n",
    "def get_first_pair(current):\n",
    "     for edge_curr_id,ei in enumerate(edges[current]):\n",
    "        for tile_id,k in enumerate(tiles_idx):\n",
    "            if k == current:\n",
    "                pass\n",
    "            else:\n",
    "                for edge_id,e in enumerate(edges[k]):\n",
    "                    if (e==ei).all():\n",
    "                        print(f\"Match! {k} {tile_id} {edge_id} => {current} {e}={ei}\")\n",
    "                        return [current,edge_curr_id, k, edge_id]\n",
    "\n",
    "current = tiles_idx[0];\n",
    "ans = get_first_pair(current)          \n",
    "print(ans)"
   ]
  },
  {
   "cell_type": "code",
   "execution_count": 78,
   "metadata": {},
   "outputs": [
    {
     "ename": "TypeError",
     "evalue": "unhashable type: 'list'",
     "output_type": "error",
     "traceback": [
      "\u001b[1;31m---------------------------------------------------------------------------\u001b[0m",
      "\u001b[1;31mTypeError\u001b[0m                                 Traceback (most recent call last)",
      "\u001b[1;32m<ipython-input-78-f4f240b87fab>\u001b[0m in \u001b[0;36m<module>\u001b[1;34m\u001b[0m\n\u001b[0;32m      1\u001b[0m \u001b[0mt\u001b[0m\u001b[1;33m=\u001b[0m\u001b[1;33m{\u001b[0m\u001b[1;33m}\u001b[0m\u001b[1;33m\u001b[0m\u001b[1;33m\u001b[0m\u001b[0m\n\u001b[0;32m      2\u001b[0m \u001b[1;33m\u001b[0m\u001b[0m\n\u001b[1;32m----> 3\u001b[1;33m \u001b[0mt\u001b[0m\u001b[1;33m[\u001b[0m\u001b[1;33m[\u001b[0m\u001b[1;36m1\u001b[0m\u001b[1;33m,\u001b[0m\u001b[1;36m3\u001b[0m\u001b[1;33m]\u001b[0m\u001b[1;33m]\u001b[0m\u001b[1;33m=\u001b[0m\u001b[1;36m32\u001b[0m\u001b[1;33m\u001b[0m\u001b[1;33m\u001b[0m\u001b[0m\n\u001b[0m",
      "\u001b[1;31mTypeError\u001b[0m: unhashable type: 'list'"
     ]
    }
   ],
   "source": [
    "\n"
   ]
  }
 ],
 "metadata": {
  "kernelspec": {
   "display_name": "Python 3",
   "language": "python",
   "name": "python3"
  },
  "language_info": {
   "codemirror_mode": {
    "name": "ipython",
    "version": 3
   },
   "file_extension": ".py",
   "mimetype": "text/x-python",
   "name": "python",
   "nbconvert_exporter": "python",
   "pygments_lexer": "ipython3",
   "version": "3.8.3"
  }
 },
 "nbformat": 4,
 "nbformat_minor": 4
}
